{
 "cells": [
  {
   "cell_type": "code",
   "execution_count": 28,
   "id": "a975fd45",
   "metadata": {},
   "outputs": [],
   "source": [
    "import matplotlib.pyplot as pyplot\n",
    "import json\n",
    "from functools import reduce\n",
    "from timeit import default_timer as timer\n",
    "from heapq import heappop, heappush\n",
    "from copy import copy, deepcopy"
   ]
  },
  {
   "cell_type": "markdown",
   "id": "b3542166",
   "metadata": {},
   "source": [
    "# Problema de cautare in spatiul starilor"
   ]
  },
  {
   "cell_type": "markdown",
   "id": "d79ff041",
   "metadata": {},
   "source": [
    "## Cerinta 1\n",
    "\n",
    "\n",
    "Definire reprezentare problema."
   ]
  },
  {
   "cell_type": "code",
   "execution_count": 29,
   "id": "ae8dfbef",
   "metadata": {},
   "outputs": [],
   "source": [
    "# Define how a problem is represented \n",
    "problems = []\n",
    "\n",
    "# For each problem, a tuple (NAME, WIDTH, HEIGHT, ROWS, COLUMNS)\n",
    "NAME = 0\n",
    "WIDTH = 1\n",
    "HEIGHT = 2\n",
    "ROWS = 3\n",
    "COLUMNS = 4"
   ]
  },
  {
   "cell_type": "code",
   "execution_count": 30,
   "id": "01e40680",
   "metadata": {
    "scrolled": true
   },
   "outputs": [],
   "source": [
    "#Read the input information\n",
    "\n",
    "for i in [1, 2, 3, 4, 5, 6]:\n",
    "    f = open('Teste/test' + str(i) + '.json',)\n",
    "    input_info = json.load(f)\n",
    "    f.close()\n",
    "    problems.append((input_info['name'], input_info['width'], input_info['height'], input_info['rows'], input_info['columns']))\n",
    "\n",
    "def solve_problem(problem_nr, algorithm_name, algorithm, heuristic = None):\n",
    "    if heuristic is None:\n",
    "        start_time = timer()\n",
    "        sol = algorithm(problems[problem_nr])\n",
    "        end_time = timer()\n",
    "    else:\n",
    "        start_time = timer()\n",
    "        sol = algorithm(heuristic, problems[problem_nr])\n",
    "        end_time = timer()\n",
    "    \n",
    "\n",
    "    %matplotlib inline\n",
    "    pyplot.imshow(sol[2], cmap='Greys', interpolation='nearest');\n",
    "\n",
    "    print('Nodes Generated: ' + str(sol[0]))\n",
    "    print('Nodes Expanded: ' + str(sol[1]))\n",
    "    print('Time: ' + str(end_time - start_time) + 's')\n",
    "\n",
    "    sol_json = {\n",
    "        'strategy': algorithm_name,\n",
    "        'nodes generated': sol[0],\n",
    "        'nodes expanded': sol[1],\n",
    "        'time': end_time - start_time,\n",
    "        'solution': sol[2]\n",
    "    }\n",
    "\n",
    "    cout = open(\"problema\" + str(problem_nr) + \".out\", \"a\")\n",
    "    json.dump(sol_json, cout)\n",
    "    cout.close()\n"
   ]
  },
  {
   "cell_type": "code",
   "execution_count": 31,
   "id": "8fd6e726",
   "metadata": {},
   "outputs": [],
   "source": [
    "# Each node will be representet as a tuple (CONFIGURATION, ROW) and will\n",
    "# track how the configuration looks for the first ROW rows\n",
    "\n",
    "CONFIGURATION = 0\n",
    "ROW = 1\n",
    "\n",
    "# Each cell can be white, black, or unknown\n",
    "WHITE = 0\n",
    "BLACK = 1\n",
    "UNKNOWN = 2"
   ]
  },
  {
   "cell_type": "code",
   "execution_count": 32,
   "id": "ba8a8ea2",
   "metadata": {},
   "outputs": [],
   "source": [
    "# Function is used for evaluating if the configuration is final on \n",
    "# a certain column and also for generating next configurations on that column. \n",
    "# Illegal configurations can't be neighbours with the previous configuration\n",
    "def check_collumn(configuration, col, check_height, is_final_check, problem):\n",
    "    component = 0\n",
    "    start = -1\n",
    "    end = -1\n",
    "    nr_blocks = 0\n",
    "    \n",
    "    for i in range(0, check_height):\n",
    "        if configuration[i][col] == BLACK:\n",
    "            nr_blocks += 1\n",
    "            if start == -1:\n",
    "                start = i\n",
    "        else:\n",
    "            if start != -1:\n",
    "                end = i - 1\n",
    "                component += 1\n",
    "                if component > len(problem[COLUMNS][col]):\n",
    "                    return False\n",
    "                if end - start + 1 != problem[COLUMNS][col][component - 1]:\n",
    "                    return False\n",
    "                start = -1\n",
    "                end = -1\n",
    "    \n",
    "    # If the last component lasted until the end of the columns,\n",
    "    # take that component into account\n",
    "    if start != -1:\n",
    "        end = check_height - 1\n",
    "        component += 1\n",
    "    \n",
    "    # If it is the final_check, then the number of components fould should be\n",
    "    # the same with the number of expected components\n",
    "    if is_final_check and component != len(problem[COLUMNS][col]):\n",
    "        return False\n",
    "    \n",
    "    if problem[COLUMNS][col] and start != -1:\n",
    "        if is_final_check and problem[COLUMNS][col][component - 1] != end - start + 1:\n",
    "            return False\n",
    "        if not is_final_check:\n",
    "            # If is not the final check and we have found more components than in the\n",
    "            # expected config, then this move is illegal and it means this state can't be\n",
    "            # neighbour with the last one\n",
    "            if component > len(problem[COLUMNS][col]):\n",
    "                return False\n",
    "            \n",
    "            # If is not the final check, if the current component contains more \n",
    "            # elements than the corresponding component in the expected config, this\n",
    "            # means that this state can't be a neighbour of the current state, since\n",
    "            # the move is illegal\n",
    "            if problem[COLUMNS][col][component - 1] < end - start + 1:\n",
    "                return False\n",
    "    \n",
    "    # If is not the final check and there is no room left for the others components\n",
    "    # to be added, it means this configuration is not neighbour with the last one\n",
    "    if not is_final_check:\n",
    "        expected_nr_blocks = reduce(lambda sum, x: sum + x, problem[COLUMNS][col], 0)\n",
    "        need_next = expected_nr_blocks - nr_blocks + len(problem[COLUMNS][col]) - component - 1\n",
    "        if need_next > problem[HEIGHT] - check_height:\n",
    "            return False\n",
    "    \n",
    "    return True\n",
    "\n",
    "# Function is used for evaluating if the configuration is final and also \n",
    "# for generating next configurationn. Illegal configurations can't be neighbours\n",
    "# with the previous configuration\n",
    "def check_collumns(configuration, check_height, is_final_check, problem):\n",
    "    return reduce(\n",
    "        lambda so_far, col: so_far and check_collumn(configuration, col, check_height, is_final_check, problem), \n",
    "        list(range(0, problem[WIDTH])), \n",
    "        True\n",
    "    )\n",
    "\n",
    "# Returns True if the current node is final\n",
    "def is_final(node, problem):\n",
    "    return (node[ROW] == problem[HEIGHT] - 1) and check_collumns(node[CONFIGURATION], problem[HEIGHT], True, problem)\n"
   ]
  },
  {
   "cell_type": "code",
   "execution_count": 33,
   "id": "2c5f0a6d",
   "metadata": {},
   "outputs": [],
   "source": [
    "# Generate a line from the specified components within a problem\n",
    "def generate_line(line_components, width):\n",
    "    nr_components = len(line_components)\n",
    "    \n",
    "    dp = [[[] for c in range(width + 2)] for r in range(nr_components + 1)]\n",
    "    dp[nr_components] = [[[0 for e in range(width)]] for c in range(width + 2)]\n",
    "    \n",
    "    for i in reversed(range(0, nr_components)):\n",
    "        component_length = line_components[i]\n",
    "        for j in reversed(range(0, width - component_length + 1)):\n",
    "            dp[i][j].extend(dp[i][j + 1])\n",
    "            for partial in dp[i + 1][j + component_length + 1]:\n",
    "                partial_copy = partial[:]\n",
    "                for step in range(0, component_length):\n",
    "                    partial_copy[j + step] = 1\n",
    "                dp[i][j].append(partial_copy)\n",
    "            \n",
    "    return dp[0][0]\n",
    "\n",
    "\n",
    "# Map that keeps track of the line generated, to elimante the overhead\n",
    "# of generating the same line twice\n",
    "known_configurations = {}\n",
    "for problem in problems:\n",
    "    known_configurations[problem[NAME]] = {}\n",
    "\n",
    "def get_neighbours_row(node, problem):\n",
    "    row = node[ROW] + 1\n",
    "    if row >= problem[HEIGHT]:\n",
    "        return []\n",
    "    \n",
    "    if known_configurations[problem[NAME]].get(tuple(problem[ROWS][row])) is not None:\n",
    "        next_configurations = known_configurations[problem[NAME]].get(tuple(problem[ROWS][row]))\n",
    "    else:\n",
    "        next_configurations = generate_line(problem[ROWS][row], problem[WIDTH])\n",
    "        known_configurations[problem[NAME]][tuple(problem[ROWS][row])] = next_configurations\n",
    "    \n",
    "    return list(map(\n",
    "        lambda config : (config, row),\n",
    "        list(filter(\n",
    "            lambda config : check_collumns(config, row + 1, False, problem), \n",
    "            list(map(lambda new_line : node[CONFIGURATION][:] + [new_line], next_configurations))\n",
    "        ))))\n",
    "\n"
   ]
  },
  {
   "cell_type": "markdown",
   "id": "ca9d528b",
   "metadata": {},
   "source": [
    "## Cerinta 2\n",
    "\n",
    "\n",
    "Strategii de cautare neinformata."
   ]
  },
  {
   "cell_type": "markdown",
   "id": "1f58bae2",
   "metadata": {},
   "source": [
    "### Breadth First Search\n"
   ]
  },
  {
   "cell_type": "code",
   "execution_count": 34,
   "id": "8d39a10f",
   "metadata": {},
   "outputs": [],
   "source": [
    "def bfs(problem):\n",
    "    start = ([], -1)\n",
    "    queue = []\n",
    "    \n",
    "    generated = 1\n",
    "    expanded = 0\n",
    "    \n",
    "    queue.append(start)\n",
    "    \n",
    "    while queue:\n",
    "        current_state = queue.pop(0)\n",
    "        expanded += 1\n",
    "        \n",
    "        neighbours = get_neighbours_row(current_state, problem)\n",
    "        generated += len(neighbours)\n",
    "        \n",
    "        for neighbour in neighbours:\n",
    "            if is_final(neighbour, problem):\n",
    "                return (generated, expanded, neighbour[CONFIGURATION])\n",
    "            queue.append(neighbour)\n",
    "    \n",
    "        \n",
    "    \n",
    "    "
   ]
  },
  {
   "cell_type": "code",
   "execution_count": 77,
   "id": "cc67fb69",
   "metadata": {},
   "outputs": [
    {
     "name": "stdout",
     "output_type": "stream",
     "text": [
      "Nodes Generated: 11\n",
      "Nodes Expanded: 8\n",
      "Time: 0.0012655720020120498s\n"
     ]
    },
    {
     "data": {
      "image/png": "[encoded data removed]",
      "text/plain": [
       "<Figure size 432x288 with 1 Axes>"
      ]
     },
     "metadata": {
      "needs_background": "light"
     },
     "output_type": "display_data"
    }
   ],
   "source": [
    "# BFS Problema 1\n",
    "solve_problem(0, 'Breadth First Search', bfs)"
   ]
  },
  {
   "cell_type": "code",
   "execution_count": 78,
   "id": "1f2ac523",
   "metadata": {},
   "outputs": [
    {
     "name": "stdout",
     "output_type": "stream",
     "text": [
      "Nodes Generated: 6\n",
      "Nodes Expanded: 5\n",
      "Time: 0.0010464849983691238s\n"
     ]
    },
    {
     "data": {
      "image/png": "[encoded data removed]",
      "text/plain": [
       "<Figure size 432x288 with 1 Axes>"
      ]
     },
     "metadata": {
      "needs_background": "light"
     },
     "output_type": "display_data"
    }
   ],
   "source": [
    "# BFS Problema 2\n",
    "solve_problem(1, 'Breadth First Search', bfs)"
   ]
  },
  {
   "cell_type": "code",
   "execution_count": 79,
   "id": "3251063b",
   "metadata": {},
   "outputs": [
    {
     "name": "stdout",
     "output_type": "stream",
     "text": [
      "Nodes Generated: 43\n",
      "Nodes Expanded: 42\n",
      "Time: 0.04715419999774895s\n"
     ]
    },
    {
     "data": {
      "image/png": "[encoded data removed]",
      "text/plain": [
       "<Figure size 432x288 with 1 Axes>"
      ]
     },
     "metadata": {
      "needs_background": "light"
     },
     "output_type": "display_data"
    }
   ],
   "source": [
    "# BFS Problema 3\n",
    "solve_problem(2, 'Breadth First Search', bfs)"
   ]
  },
  {
   "cell_type": "code",
   "execution_count": 80,
   "id": "b6ac04e8",
   "metadata": {},
   "outputs": [
    {
     "name": "stdout",
     "output_type": "stream",
     "text": [
      "Nodes Generated: 545\n",
      "Nodes Expanded: 540\n",
      "Time: 2.8964887680012907s\n"
     ]
    },
    {
     "data": {
      "image/png": "[encoded data removed]",
      "text/plain": [
       "<Figure size 432x288 with 1 Axes>"
      ]
     },
     "metadata": {
      "needs_background": "light"
     },
     "output_type": "display_data"
    }
   ],
   "source": [
    "# BFS Problema 4\n",
    "solve_problem(3, 'Breadth First Search', bfs)"
   ]
  },
  {
   "cell_type": "code",
   "execution_count": 81,
   "id": "93b0f8a0",
   "metadata": {},
   "outputs": [
    {
     "name": "stdout",
     "output_type": "stream",
     "text": [
      "Nodes Generated: 26164\n",
      "Nodes Expanded: 26163\n",
      "Time: 129.91471560900027s\n"
     ]
    },
    {
     "data": {
      "image/png": "[encoded data removed]",
      "text/plain": [
       "<Figure size 432x288 with 1 Axes>"
      ]
     },
     "metadata": {
      "needs_background": "light"
     },
     "output_type": "display_data"
    }
   ],
   "source": [
    "# BFS Problema 5\n",
    "solve_problem(4, 'Breadth First Search', bfs)"
   ]
  },
  {
   "cell_type": "code",
   "execution_count": 82,
   "id": "694f1a27",
   "metadata": {},
   "outputs": [
    {
     "name": "stdout",
     "output_type": "stream",
     "text": [
      "Nodes Generated: 154\n",
      "Nodes Expanded: 153\n",
      "Time: 17.92701210499945s\n"
     ]
    },
    {
     "data": {
      "image/png": "[encoded data removed]",
      "text/plain": [
       "<Figure size 432x288 with 1 Axes>"
      ]
     },
     "metadata": {
      "needs_background": "light"
     },
     "output_type": "display_data"
    }
   ],
   "source": [
    "# BFS Problema 6\n",
    "solve_problem(5, 'Breadth First Search', bfs)"
   ]
  },
  {
   "cell_type": "markdown",
   "id": "4b23e82d",
   "metadata": {},
   "source": [
    "### Depth First Search\n"
   ]
  },
  {
   "cell_type": "code",
   "execution_count": 35,
   "id": "2615af96",
   "metadata": {},
   "outputs": [],
   "source": [
    "def dfs(problem):\n",
    "    start = ([], -1)\n",
    "    stack = []\n",
    "    \n",
    "    generated = 1\n",
    "    expanded = 0\n",
    "    \n",
    "    stack.append(start)\n",
    "    \n",
    "    while stack:\n",
    "        current_state = stack.pop()\n",
    "        expanded += 1\n",
    "        \n",
    "        neighbours = get_neighbours_row(current_state, problem)\n",
    "        generated += len(neighbours)\n",
    "        \n",
    "        for neighbour in neighbours:\n",
    "            if is_final(neighbour, problem):\n",
    "                return (generated, expanded, neighbour[CONFIGURATION])\n",
    "            stack.append(neighbour)"
   ]
  },
  {
   "cell_type": "code",
   "execution_count": 85,
   "id": "205acf9c",
   "metadata": {},
   "outputs": [
    {
     "name": "stdout",
     "output_type": "stream",
     "text": [
      "Nodes Generated: 11\n",
      "Nodes Expanded: 7\n",
      "Time: 0.0010713539995776955s\n"
     ]
    },
    {
     "data": {
      "image/png": "[encoded data removed]",
      "text/plain": [
       "<Figure size 432x288 with 1 Axes>"
      ]
     },
     "metadata": {
      "needs_background": "light"
     },
     "output_type": "display_data"
    }
   ],
   "source": [
    "# DFS Problema 1\n",
    "solve_problem(0, 'Depth First Search', dfs)"
   ]
  },
  {
   "cell_type": "code",
   "execution_count": 86,
   "id": "39cefb0f",
   "metadata": {},
   "outputs": [
    {
     "name": "stdout",
     "output_type": "stream",
     "text": [
      "Nodes Generated: 6\n",
      "Nodes Expanded: 5\n",
      "Time: 0.000717261998943286s\n"
     ]
    },
    {
     "data": {
      "image/png": "[encoded data removed]",
      "text/plain": [
       "<Figure size 432x288 with 1 Axes>"
      ]
     },
     "metadata": {
      "needs_background": "light"
     },
     "output_type": "display_data"
    }
   ],
   "source": [
    "# DFS Problema 2\n",
    "solve_problem(1, 'Depth First Search', dfs)"
   ]
  },
  {
   "cell_type": "code",
   "execution_count": 87,
   "id": "468e04d7",
   "metadata": {},
   "outputs": [
    {
     "name": "stdout",
     "output_type": "stream",
     "text": [
      "Nodes Generated: 43\n",
      "Nodes Expanded: 42\n",
      "Time: 0.04506557200147654s\n"
     ]
    },
    {
     "data": {
      "image/png": "[encoded data removed]",
      "text/plain": [
       "<Figure size 432x288 with 1 Axes>"
      ]
     },
     "metadata": {
      "needs_background": "light"
     },
     "output_type": "display_data"
    }
   ],
   "source": [
    "# DFS Problema 3\n",
    "solve_problem(2, 'Depth First Search', dfs)"
   ]
  },
  {
   "cell_type": "code",
   "execution_count": 88,
   "id": "41a402e1",
   "metadata": {},
   "outputs": [
    {
     "name": "stdout",
     "output_type": "stream",
     "text": [
      "Nodes Generated: 534\n",
      "Nodes Expanded: 527\n",
      "Time: 2.2055133300018497s\n"
     ]
    },
    {
     "data": {
      "image/png": "[encoded data removed]",
      "text/plain": [
       "<Figure size 432x288 with 1 Axes>"
      ]
     },
     "metadata": {
      "needs_background": "light"
     },
     "output_type": "display_data"
    }
   ],
   "source": [
    "# DFS Problema 4\n",
    "solve_problem(3, 'Depth First Search', dfs)"
   ]
  },
  {
   "cell_type": "code",
   "execution_count": 89,
   "id": "2aa76190",
   "metadata": {},
   "outputs": [
    {
     "name": "stdout",
     "output_type": "stream",
     "text": [
      "Nodes Generated: 10427\n",
      "Nodes Expanded: 10329\n",
      "Time: 108.65123663600025s\n"
     ]
    },
    {
     "data": {
      "image/png": "[encoded data removed]",
      "text/plain": [
       "<Figure size 432x288 with 1 Axes>"
      ]
     },
     "metadata": {
      "needs_background": "light"
     },
     "output_type": "display_data"
    }
   ],
   "source": [
    "# DFS Problema 5\n",
    "solve_problem(4, 'Depth First Search', dfs)"
   ]
  },
  {
   "cell_type": "code",
   "execution_count": 90,
   "id": "9ae30355",
   "metadata": {},
   "outputs": [
    {
     "name": "stdout",
     "output_type": "stream",
     "text": [
      "Nodes Generated: 126\n",
      "Nodes Expanded: 110\n",
      "Time: 13.62412197500089s\n"
     ]
    },
    {
     "data": {
      "image/png": "[encoded data removed]",
      "text/plain": [
       "<Figure size 432x288 with 1 Axes>"
      ]
     },
     "metadata": {
      "needs_background": "light"
     },
     "output_type": "display_data"
    }
   ],
   "source": [
    "# DFS Problema 6\n",
    "solve_problem(5, 'Depth First Search', dfs)"
   ]
  },
  {
   "cell_type": "markdown",
   "id": "63be1967",
   "metadata": {},
   "source": [
    "### Iterative deepening search"
   ]
  },
  {
   "cell_type": "code",
   "execution_count": 118,
   "id": "e57d78df",
   "metadata": {},
   "outputs": [],
   "source": [
    "def dfs_ad_max(ad_max, problem):\n",
    "    start = ([], -1)\n",
    "    OPEN = []\n",
    "    \n",
    "    generated = 1\n",
    "    expanded = 0\n",
    "    \n",
    "    OPEN.append(start)\n",
    "    \n",
    "    while OPEN:\n",
    "        current_state = OPEN.pop()\n",
    "        \n",
    "        if is_final(current_state, problem):\n",
    "                return (generated, expanded, neighbour[CONFIGURATION])\n",
    "        if current_state[ROW] > ad_max:\n",
    "            return (generated, expanded, None)\n",
    "        \n",
    "        expanded += 1\n",
    "        neighbours = get_neighbours_row(current_state, problem)\n",
    "        generated += len(neighbours)\n",
    "        \n",
    "        for neighbour in neighbours:\n",
    "            OPEN.append(neighbour)\n",
    "    return (generated, expanded, None)\n",
    "\n",
    "\n",
    "def iterative_deepening(problem):\n",
    "    ad_max = 0\n",
    "    generated = 0\n",
    "    expanded = 0\n",
    "    \n",
    "    while True:\n",
    "        result =  dfs_ad_max(ad_max, problem)\n",
    "        generated += result[0]\n",
    "        expanded += result[1]\n",
    "        if result[2] is not None:\n",
    "            return (generated, expanded, result[2])\n",
    "        ad_max += 1\n",
    "        "
   ]
  },
  {
   "cell_type": "code",
   "execution_count": 119,
   "id": "b4110322",
   "metadata": {},
   "outputs": [
    {
     "name": "stdout",
     "output_type": "stream",
     "text": [
      "Nodes Generated: 28\n",
      "Nodes Expanded: 16\n",
      "Time: 0.002153761000954546s\n"
     ]
    },
    {
     "data": {
      "image/png": "[encoded data removed]",
      "text/plain": [
       "<Figure size 432x288 with 1 Axes>"
      ]
     },
     "metadata": {
      "needs_background": "light"
     },
     "output_type": "display_data"
    }
   ],
   "source": [
    "# Iterative Deepening Problema 1\n",
    "solve_problem(0, 'Iterative deepening search', iterative_deepening)"
   ]
  },
  {
   "cell_type": "code",
   "execution_count": 120,
   "id": "4c0f06aa",
   "metadata": {},
   "outputs": [
    {
     "name": "stdout",
     "output_type": "stream",
     "text": [
      "Nodes Generated: 18\n",
      "Nodes Expanded: 14\n",
      "Time: 0.003794346994254738s\n"
     ]
    },
    {
     "data": {
      "image/png": "[encoded data removed]",
      "text/plain": [
       "<Figure size 432x288 with 1 Axes>"
      ]
     },
     "metadata": {
      "needs_background": "light"
     },
     "output_type": "display_data"
    }
   ],
   "source": [
    "# Iterative Deepening Problema 2\n",
    "solve_problem(1, 'Iterative deepening search', iterative_deepening)"
   ]
  },
  {
   "cell_type": "code",
   "execution_count": 121,
   "id": "a4bf60c1",
   "metadata": {},
   "outputs": [
    {
     "name": "stdout",
     "output_type": "stream",
     "text": [
      "Nodes Generated: 326\n",
      "Nodes Expanded: 305\n",
      "Time: 0.27334024899755605s\n"
     ]
    },
    {
     "data": {
      "image/png": "[encoded data removed]",
      "text/plain": [
       "<Figure size 432x288 with 1 Axes>"
      ]
     },
     "metadata": {
      "needs_background": "light"
     },
     "output_type": "display_data"
    }
   ],
   "source": [
    "# Iterative Deepening Problema 3\n",
    "solve_problem(2, 'Iterative deepening search', iterative_deepening)"
   ]
  },
  {
   "cell_type": "code",
   "execution_count": 122,
   "id": "7b90c8ed",
   "metadata": {},
   "outputs": [
    {
     "name": "stdout",
     "output_type": "stream",
     "text": [
      "Nodes Generated: 5169\n",
      "Nodes Expanded: 5026\n",
      "Time: 10.70187609399727s\n"
     ]
    },
    {
     "data": {
      "image/png": "[encoded data removed]",
      "text/plain": [
       "<Figure size 432x288 with 1 Axes>"
      ]
     },
     "metadata": {
      "needs_background": "light"
     },
     "output_type": "display_data"
    }
   ],
   "source": [
    "# Iterative Deepening Problema 4\n",
    "solve_problem(3, 'Iterative deepening search', iterative_deepening)"
   ]
  },
  {
   "cell_type": "code",
   "execution_count": 123,
   "id": "cf24f83e",
   "metadata": {},
   "outputs": [
    {
     "name": "stdout",
     "output_type": "stream",
     "text": [
      "Nodes Generated: 34502\n",
      "Nodes Expanded: 33551\n",
      "Time: 172.36137605500699s\n"
     ]
    },
    {
     "data": {
      "image/png": "[encoded data removed]",
      "text/plain": [
       "<Figure size 432x288 with 1 Axes>"
      ]
     },
     "metadata": {
      "needs_background": "light"
     },
     "output_type": "display_data"
    }
   ],
   "source": [
    "# Iterative Deepening Problema 5\n",
    "solve_problem(4, 'Iterative deepening search', iterative_deepening)"
   ]
  },
  {
   "cell_type": "code",
   "execution_count": 124,
   "id": "692d5377",
   "metadata": {},
   "outputs": [
    {
     "name": "stdout",
     "output_type": "stream",
     "text": [
      "Nodes Generated: 2109\n",
      "Nodes Expanded: 1724\n",
      "Time: 86.25188750198868s\n"
     ]
    },
    {
     "data": {
      "image/png": "[encoded data removed]",
      "text/plain": [
       "<Figure size 432x288 with 1 Axes>"
      ]
     },
     "metadata": {
      "needs_background": "light"
     },
     "output_type": "display_data"
    }
   ],
   "source": [
    "# Iterative Deepening Problema 6\n",
    "solve_problem(5, 'Iterative deepening search', iterative_deepening)"
   ]
  },
  {
   "cell_type": "markdown",
   "id": "cd74daa8",
   "metadata": {},
   "source": [
    "## Cerinta 3\n",
    "### A* Search"
   ]
  },
  {
   "cell_type": "code",
   "execution_count": 37,
   "id": "446844f7",
   "metadata": {},
   "outputs": [],
   "source": [
    "# Check if the current line matches the mask.\n",
    "def match_line(mask, possible_line):\n",
    "    for i in range(len(mask)):\n",
    "        if mask[i] == BLACK and possible_line[i] == WHITE:\n",
    "            return False\n",
    "        if mask[i] == WHITE and possible_line[i] == BLACK:\n",
    "            return False\n",
    "    return True\n",
    "\n",
    "# Helper function to overlap to possible configurations.\n",
    "def find_unknown(line_so_far, line):\n",
    "    for i in range(len(line_so_far)):\n",
    "        if line_so_far[i] != line[i]:\n",
    "            line_so_far[i] = UNKNOWN\n",
    "    return line_so_far\n",
    "\n",
    "# Computes the mask of a line and returns the configurations that comply to the\n",
    "# mask. Mask is computed as follows: if a block can be both white or black, \n",
    "# then the mask has UNKNOWN for that position. Otherwise, BLACK or WHITE is stored\n",
    "def get_line_information(line, possible_lines):\n",
    "    match_restriction = list(filter(\n",
    "        lambda possible_line: match_line(line, possible_line),\n",
    "        possible_lines\n",
    "    ))\n",
    "    \n",
    "    if match_restriction:\n",
    "        return (reduce(find_unknown, match_restriction, match_restriction[0].copy()),  match_restriction)\n",
    "    else:\n",
    "        return ([], [])\n",
    "\n",
    "known_columns_config = {}\n",
    "for problem in problems:\n",
    "    known_columns_config[problem[NAME]] = {}\n",
    "\n",
    "# h1 computes how many cells are left to be guessed supposing the cells in mask \n",
    "# have been guessed correctly\n",
    "def h1(node, mask, problem):\n",
    "    known_found = 0\n",
    "    for i in range(problem[WIDTH]):\n",
    "        if mask[i] == UNKNOWN:\n",
    "            column = [UNKNOWN for i in range(problem[HEIGHT])]\n",
    "            for j in range(node[ROW] + 1):\n",
    "                column[j] = node[CONFIGURATION][j][i]\n",
    "                \n",
    "            if known_columns_config[problem[NAME]].get(tuple(problem[COLUMNS][i])) is not None:\n",
    "                column_configs = known_columns_config[problem[NAME]].get(tuple(problem[COLUMNS][i])) \n",
    "            else:\n",
    "                column_configs = generate_line(problem[COLUMNS][i], problem[HEIGHT])\n",
    "                known_columns_config[problem[NAME]][tuple(problem[COLUMNS][i])] = column_configs\n",
    "           \n",
    "            (column_mask, possibilities) = get_line_information(column, column_configs)\n",
    "            \n",
    "            if not possibilities:\n",
    "                return ERROR\n",
    "            else:\n",
    "                known_found += (node[ROW] + 1) - (problem[HEIGHT] - column_mask.count(UNKNOWN))\n",
    "    return (problem[HEIGHT] - (node[ROW] + 1) ) * problem[WIDTH] - known_found \n",
    "\n",
    "# h2 computes how many cells are left to be guessed if the black cells\n",
    "# uniquely determine all the other cells in that collumn\n",
    "def h2(node, mask, problem):\n",
    "    contribute = 0\n",
    "    \n",
    "    for col in range(problem[WIDTH]):\n",
    "        expected_col = reduce(lambda sum, x: x + sum + 1, problem[COLUMNS][col])\n",
    "        already = 0;\n",
    "        for row in range(len(node[CONFIGURATION])):\n",
    "            if node[CONFIGURATION][row][col] == BLACK:\n",
    "                already += 1\n",
    "        contribute += expected_col - already\n",
    "    return (problem[HEIGHT] - len(node[CONFIGURATION])) * problem[WIDTH] - contribute\n",
    "            \n",
    "            \n",
    "def astar(h, problem):\n",
    "    start = ([], -1, 0)\n",
    "    \n",
    "    frontier = []\n",
    "    heappush(frontier, (0 + problem[HEIGHT] * problem[WIDTH], start))\n",
    "    \n",
    "    expanded = 0\n",
    "    generated = 1\n",
    "    \n",
    "    exp = 0;\n",
    "    while frontier:\n",
    "        (f_current, node) = heappop(frontier)\n",
    "        expanded += 1\n",
    "        \n",
    "        neighbours = get_neighbours_row(node, problem)\n",
    "        generated += len(neighbours)\n",
    "        \n",
    "        possibilities = [neighbours[i][CONFIGURATION][node[ROW] + 1] for i in range(len(neighbours))]\n",
    "        (line_mask, _) = get_line_information([UNKNOWN for i in range(problem[WIDTH])], possibilities)\n",
    "        \n",
    "        for neighbour in neighbours:\n",
    "            if is_final(neighbour, problem):\n",
    "                return (generated, expanded, neighbour[CONFIGURATION])\n",
    "            \n",
    "            g = node[2] + line_mask.count(UNKNOWN)\n",
    "            h_value = h(neighbour, line_mask, problem)\n",
    "            f = g + h_value\n",
    "            next_node = (neighbour[CONFIGURATION], neighbour[ROW], g)\n",
    "            heappush(frontier, (f, next_node))\n",
    "            \n",
    "        \n",
    "       \n",
    "            \n",
    "    \n",
    "    "
   ]
  },
  {
   "cell_type": "code",
   "execution_count": 125,
   "id": "b2a748e7",
   "metadata": {},
   "outputs": [
    {
     "name": "stdout",
     "output_type": "stream",
     "text": [
      "Nodes Generated: 11\n",
      "Nodes Expanded: 8\n",
      "Time: 0.0028358909767121077s\n"
     ]
    },
    {
     "data": {
      "image/png": "[encoded data removed]",
      "text/plain": [
       "<Figure size 432x288 with 1 Axes>"
      ]
     },
     "metadata": {
      "needs_background": "light"
     },
     "output_type": "display_data"
    }
   ],
   "source": [
    "# A* Problema 1 cu h1\n",
    "solve_problem(0, 'A* Search h1', astar, h1)"
   ]
  },
  {
   "cell_type": "code",
   "execution_count": 99,
   "id": "3102b0d3",
   "metadata": {},
   "outputs": [
    {
     "name": "stdout",
     "output_type": "stream",
     "text": [
      "Nodes Generated: 6\n",
      "Nodes Expanded: 5\n",
      "Time: 0.0009304279992647935s\n"
     ]
    },
    {
     "data": {
      "image/png": "[encoded data removed]",
      "text/plain": [
       "<Figure size 432x288 with 1 Axes>"
      ]
     },
     "metadata": {
      "needs_background": "light"
     },
     "output_type": "display_data"
    }
   ],
   "source": [
    "# A* Problema 2 cu h1\n",
    "solve_problem(1, 'A* Search h1', astar, h1)"
   ]
  },
  {
   "cell_type": "code",
   "execution_count": 127,
   "id": "81994749",
   "metadata": {},
   "outputs": [
    {
     "name": "stdout",
     "output_type": "stream",
     "text": [
      "Nodes Generated: 27\n",
      "Nodes Expanded: 13\n",
      "Time: 0.032149712002137676s\n"
     ]
    },
    {
     "data": {
      "image/png": "[encoded data removed]",
      "text/plain": [
       "<Figure size 432x288 with 1 Axes>"
      ]
     },
     "metadata": {
      "needs_background": "light"
     },
     "output_type": "display_data"
    }
   ],
   "source": [
    "# A* Problema 3 cu h1\n",
    "solve_problem(2, 'A* Search h1', astar, h1)"
   ]
  },
  {
   "cell_type": "code",
   "execution_count": 101,
   "id": "c837ccc2",
   "metadata": {},
   "outputs": [
    {
     "name": "stdout",
     "output_type": "stream",
     "text": [
      "Nodes Generated: 92\n",
      "Nodes Expanded: 53\n",
      "Time: 1.102008415000455s\n"
     ]
    },
    {
     "data": {
      "image/png": "[encoded data removed]",
      "text/plain": [
       "<Figure size 432x288 with 1 Axes>"
      ]
     },
     "metadata": {
      "needs_background": "light"
     },
     "output_type": "display_data"
    }
   ],
   "source": [
    "# A* Problema 4 cu h1\n",
    "solve_problem(3, 'A* Search h1', astar, h1)"
   ]
  },
  {
   "cell_type": "code",
   "execution_count": 102,
   "id": "303682d6",
   "metadata": {},
   "outputs": [
    {
     "name": "stdout",
     "output_type": "stream",
     "text": [
      "Nodes Generated: 17040\n",
      "Nodes Expanded: 17000\n",
      "Time: 125.44020981799986s\n"
     ]
    },
    {
     "data": {
      "image/png": "[encoded data removed]",
      "text/plain": [
       "<Figure size 432x288 with 1 Axes>"
      ]
     },
     "metadata": {
      "needs_background": "light"
     },
     "output_type": "display_data"
    }
   ],
   "source": [
    "# A* Problema 5 cu h1\n",
    "solve_problem(4, 'A* Search h1', astar, h1)"
   ]
  },
  {
   "cell_type": "code",
   "execution_count": 126,
   "id": "301e738d",
   "metadata": {},
   "outputs": [
    {
     "name": "stdout",
     "output_type": "stream",
     "text": [
      "Nodes Generated: 75\n",
      "Nodes Expanded: 40\n",
      "Time: 5.393193780008005s\n"
     ]
    },
    {
     "data": {
      "image/png": "[encoded data removed]",
      "text/plain": [
       "<Figure size 432x288 with 1 Axes>"
      ]
     },
     "metadata": {
      "needs_background": "light"
     },
     "output_type": "display_data"
    }
   ],
   "source": [
    "# A* Problema 6 cu h1\n",
    "solve_problem(5, 'A* Search h1', astar, h1)"
   ]
  },
  {
   "cell_type": "code",
   "execution_count": 104,
   "id": "3025d57d",
   "metadata": {},
   "outputs": [
    {
     "name": "stdout",
     "output_type": "stream",
     "text": [
      "Nodes Generated: 11\n",
      "Nodes Expanded: 8\n",
      "Time: 0.0028157599990663584s\n"
     ]
    },
    {
     "data": {
      "image/png": "[encoded data removed]",
      "text/plain": [
       "<Figure size 432x288 with 1 Axes>"
      ]
     },
     "metadata": {
      "needs_background": "light"
     },
     "output_type": "display_data"
    }
   ],
   "source": [
    "# A* Problema 1 cu h2\n",
    "solve_problem(0, 'A* Search h2', astar, h2)"
   ]
  },
  {
   "cell_type": "code",
   "execution_count": 105,
   "id": "8ca433a3",
   "metadata": {},
   "outputs": [
    {
     "name": "stdout",
     "output_type": "stream",
     "text": [
      "Nodes Generated: 6\n",
      "Nodes Expanded: 5\n",
      "Time: 0.0009706929995445535s\n"
     ]
    },
    {
     "data": {
      "image/png": "[encoded data removed]",
      "text/plain": [
       "<Figure size 432x288 with 1 Axes>"
      ]
     },
     "metadata": {
      "needs_background": "light"
     },
     "output_type": "display_data"
    }
   ],
   "source": [
    "# A* Problema 2 cu h2\n",
    "solve_problem(1, 'A* Search h2', astar, h2)"
   ]
  },
  {
   "cell_type": "code",
   "execution_count": 106,
   "id": "2db4cf5e",
   "metadata": {},
   "outputs": [
    {
     "name": "stdout",
     "output_type": "stream",
     "text": [
      "Nodes Generated: 23\n",
      "Nodes Expanded: 10\n",
      "Time: 0.014300252001703484s\n"
     ]
    },
    {
     "data": {
      "image/png": "[encoded data removed]",
      "text/plain": [
       "<Figure size 432x288 with 1 Axes>"
      ]
     },
     "metadata": {
      "needs_background": "light"
     },
     "output_type": "display_data"
    }
   ],
   "source": [
    "# A* Problema 3 cu h2\n",
    "solve_problem(2, 'A* Search h2', astar, h2)"
   ]
  },
  {
   "cell_type": "code",
   "execution_count": 107,
   "id": "8ddd981d",
   "metadata": {},
   "outputs": [
    {
     "name": "stdout",
     "output_type": "stream",
     "text": [
      "Nodes Generated: 196\n",
      "Nodes Expanded: 129\n",
      "Time: 0.8141792220012576s\n"
     ]
    },
    {
     "data": {
      "image/png": "[encoded data removed]",
      "text/plain": [
       "<Figure size 432x288 with 1 Axes>"
      ]
     },
     "metadata": {
      "needs_background": "light"
     },
     "output_type": "display_data"
    }
   ],
   "source": [
    "# A* Problema 4 cu h2\n",
    "solve_problem(3, 'A* Search h2', astar, h2)"
   ]
  },
  {
   "cell_type": "code",
   "execution_count": 108,
   "id": "d1ddc0fb",
   "metadata": {},
   "outputs": [
    {
     "name": "stdout",
     "output_type": "stream",
     "text": [
      "Nodes Generated: 19431\n",
      "Nodes Expanded: 19172\n",
      "Time: 91.08366788399871s\n"
     ]
    },
    {
     "data": {
      "image/png": "[encoded data removed]",
      "text/plain": [
       "<Figure size 432x288 with 1 Axes>"
      ]
     },
     "metadata": {
      "needs_background": "light"
     },
     "output_type": "display_data"
    }
   ],
   "source": [
    "# A* Problema 5 cu h2\n",
    "solve_problem(4, 'A* Search h2', astar, h2)"
   ]
  },
  {
   "cell_type": "code",
   "execution_count": 109,
   "id": "ea761b50",
   "metadata": {},
   "outputs": [
    {
     "name": "stdout",
     "output_type": "stream",
     "text": [
      "Nodes Generated: 114\n",
      "Nodes Expanded: 80\n",
      "Time: 6.860065481003403s\n"
     ]
    },
    {
     "data": {
      "image/png": "[encoded data removed]",
      "text/plain": [
       "<Figure size 432x288 with 1 Axes>"
      ]
     },
     "metadata": {
      "needs_background": "light"
     },
     "output_type": "display_data"
    }
   ],
   "source": [
    "# A* Problema 6 cu h2\n",
    "solve_problem(5, 'A* Search h2', astar, h2)"
   ]
  },
  {
   "cell_type": "markdown",
   "id": "3a4a9ac9",
   "metadata": {},
   "source": [
    "# Problema satisfacerii restrictiilor"
   ]
  },
  {
   "cell_type": "code",
   "execution_count": 101,
   "id": "60103de0",
   "metadata": {},
   "outputs": [],
   "source": [
    "LINE = 0\n",
    "COL = 1\n",
    "\n",
    "# Generate the variable and their Domains\n",
    "def generate_csp(problem):\n",
    "    Vars = []\n",
    "    Domains = {}\n",
    "    \n",
    "    Vars = [(LINE, i) for i in range(problem[HEIGHT])]\n",
    "    Vars.extend([(COL, i) for i in range(problem[WIDTH])])\n",
    "    \n",
    "    for var in Vars:\n",
    "        if var[0] == LINE:\n",
    "            if known_configurations[problem[NAME]].get(tuple(problem[ROWS][var[1]])) is not None:\n",
    "                next_configurations = known_configurations[problem[NAME]].get(tuple(problem[ROWS][var[1]]))\n",
    "            else:\n",
    "                next_configurations = generate_line(problem[ROWS][var[1]], problem[WIDTH])\n",
    "                known_configurations[problem[NAME]][tuple(problem[ROWS][var[1]])] = next_configurations\n",
    "            \n",
    "            if not next_configurations:\n",
    "                next_configurations = [[0 for i in range(problem[HEIGHT])]]\n",
    "            Domains[var] = next_configurations\n",
    "        else:\n",
    "            if known_columns_config[problem[NAME]].get(tuple(problem[COLUMNS][var[1]])) is not None:\n",
    "                column_configs = known_columns_config[problem[NAME]].get(tuple(problem[COLUMNS][var[1]])) \n",
    "            else:\n",
    "                column_configs = generate_line(problem[COLUMNS][var[1]], problem[HEIGHT])\n",
    "                known_columns_config[problem[NAME]][tuple(problem[COLUMNS][var[1]])] = column_configs\n",
    "            if not column_configs:\n",
    "                column_configs = [[0 for i in range(problem[WIDTH])]]\n",
    "            Domains[var] = column_configs\n",
    "     \n",
    "    return (Vars, Domains)\n",
    "\n",
    "def ac3_begin(problem, Domains):\n",
    "    Q = [((LINE, i), (COL, j)) for i in range(problem[HEIGHT]) for j in range(problem[WIDTH])]\n",
    "    Q.extend([((COL, i), (LINE, j)) for i in range(problem[WIDTH]) for j in range(problem[HEIGHT])])\n",
    "    \n",
    "    while Q:\n",
    "        current = Q.pop(0)\n",
    "        Xk = current[0]\n",
    "        Xm = current[1]\n",
    "        \n",
    "        if arc_reduce(Domains, Xk, Xm):\n",
    "            if not Domains[Xk]:\n",
    "                return False\n",
    "            if Xk[0] == LINE:\n",
    "                Q.extend(list(filter(lambda pair: pair[0] != Xm,  [((COL, i), Xk) for i in range(problem[WIDTH])])))\n",
    "            else:\n",
    "                Q.extend(list(filter(lambda pair: pair[0] != Xm,  [((LINE, i), Xk) for i in range(problem[HEIGHT])])))\n",
    "                         \n",
    "    return True\n",
    "\n",
    "def ac3(problem, Domains, Solution, X, val_x):\n",
    "    Domains[X] = [val_x]\n",
    "    if X[0] == LINE:\n",
    "        Q = list(map(\n",
    "            lambda col: ((COL, col), X), \n",
    "            list(filter(\n",
    "                lambda col : (COL, col) not in Solution, range(problem[WIDTH])))\n",
    "        ))\n",
    "    else:\n",
    "        Q = list(map(\n",
    "            lambda lin: ((LINE, lin), X), \n",
    "            list(filter(\n",
    "                lambda lin : (LINE, lin) not in Solution, range(problem[HEIGHT])))\n",
    "        ))\n",
    "\n",
    "    \n",
    "    while Q:\n",
    "        current = Q.pop(0)\n",
    "        Xk = current[0]\n",
    "        Xm = current[1]\n",
    "        \n",
    "        if arc_reduce(Domains, Xk, Xm):\n",
    "            if not Domains[Xk]:\n",
    "                return False\n",
    "            if Xk[0] == LINE:\n",
    "                Q.extend(list(filter(lambda pair: pair[0] != Xm,  [((COL, i), Xk) for i in range(problem[WIDTH])])))\n",
    "            else:\n",
    "                Q.extend(list(filter(lambda pair: pair[0] != Xm,  [((LINE, i), Xk) for i in range(problem[HEIGHT])])))\n",
    "    \n",
    "    return True\n",
    "            \n",
    "        \n",
    "def arc_reduce(Domains, X, Y):\n",
    "    change = False\n",
    "    new_domain = []\n",
    "    for vx in Domains[X]:\n",
    "        found_value = False\n",
    "        for vy in Domains[Y]:\n",
    "            if vx[Y[1]] == vy[X[1]]:\n",
    "                found_value = True\n",
    "                break;\n",
    "        if not found_value:\n",
    "            change = True\n",
    "        else:\n",
    "            new_domain.append(vx)\n",
    "    \n",
    "    Domains[X] = new_domain\n",
    "    return change\n",
    "\n",
    "\n",
    "def bkt_mac(problem, Vars, Solution, Domains):\n",
    "    if not Vars:\n",
    "        return (True, Solution, 1)\n",
    "    \n",
    "    X = Vars[0]\n",
    "    expanded = 1\n",
    "    \n",
    "    for val in Domains[X]:\n",
    "        new_Domains = deepcopy(Domains)\n",
    "        if ac3(problem, new_Domains, Solution, X, val):\n",
    "            new_Vars = Vars[:]\n",
    "            new_Vars.pop(0)\n",
    "            \n",
    "            new_Solution = deepcopy(Solution)\n",
    "            new_Solution[X] = val\n",
    "            \n",
    "            (return_value, return_Solution, return_expanded) = bkt_mac(problem, new_Vars, new_Solution, new_Domains)\n",
    "            expanded += return_expanded\n",
    "            \n",
    "            if return_value:\n",
    "                return (return_value, return_Solution, expanded)\n",
    "    \n",
    "    return (False, {}, 1)\n",
    "\n",
    "def mac(problem):\n",
    "    (Vars, Domains) = generate_csp(problem)\n",
    "    \n",
    "    ac3_begin(problem, Domains)\n",
    "    (_, solution, expanded) = bkt_mac(problem, Vars, {}, Domains)\n",
    "    return (expanded, expanded, [solution[(LINE, i)] for i in range(problem[HEIGHT])])\n",
    "            \n",
    "        \n",
    "        \n",
    "        "
   ]
  },
  {
   "cell_type": "code",
   "execution_count": 102,
   "id": "f48a02de",
   "metadata": {},
   "outputs": [
    {
     "name": "stdout",
     "output_type": "stream",
     "text": [
      "Nodes Generated: 11\n",
      "Nodes Expanded: 11\n",
      "Time: 0.006152590999590757s\n"
     ]
    },
    {
     "data": {
      "image/png": "[encoded data removed]",
      "text/plain": [
       "<Figure size 432x288 with 1 Axes>"
      ]
     },
     "metadata": {
      "needs_background": "light"
     },
     "output_type": "display_data"
    }
   ],
   "source": [
    "# MAC Problema 1 \n",
    "solve_problem(0, 'MAC', mac)"
   ]
  },
  {
   "cell_type": "code",
   "execution_count": 103,
   "id": "dec5bad9",
   "metadata": {},
   "outputs": [
    {
     "name": "stdout",
     "output_type": "stream",
     "text": [
      "Nodes Generated: 11\n",
      "Nodes Expanded: 11\n",
      "Time: 0.006235488000129408s\n"
     ]
    },
    {
     "data": {
      "image/png": "[encoded data removed]",
      "text/plain": [
       "<Figure size 432x288 with 1 Axes>"
      ]
     },
     "metadata": {
      "needs_background": "light"
     },
     "output_type": "display_data"
    }
   ],
   "source": [
    "# MAC Problema 2 \n",
    "solve_problem(1, 'MAC', mac)"
   ]
  },
  {
   "cell_type": "code",
   "execution_count": 104,
   "id": "850e2b1a",
   "metadata": {},
   "outputs": [
    {
     "name": "stdout",
     "output_type": "stream",
     "text": [
      "Nodes Generated: 21\n",
      "Nodes Expanded: 21\n",
      "Time: 0.05559950499991828s\n"
     ]
    },
    {
     "data": {
      "image/png": "[encoded data removed]",
      "text/plain": [
       "<Figure size 432x288 with 1 Axes>"
      ]
     },
     "metadata": {
      "needs_background": "light"
     },
     "output_type": "display_data"
    }
   ],
   "source": [
    "# MAC Problema 3 \n",
    "solve_problem(2, 'MAC', mac)"
   ]
  },
  {
   "cell_type": "code",
   "execution_count": 105,
   "id": "2befcea1",
   "metadata": {},
   "outputs": [
    {
     "name": "stdout",
     "output_type": "stream",
     "text": [
      "Nodes Generated: 31\n",
      "Nodes Expanded: 31\n",
      "Time: 0.4621907419996205s\n"
     ]
    },
    {
     "data": {
      "image/png": "[encoded data removed]",
      "text/plain": [
       "<Figure size 432x288 with 1 Axes>"
      ]
     },
     "metadata": {
      "needs_background": "light"
     },
     "output_type": "display_data"
    }
   ],
   "source": [
    "# MAC Problema 4 \n",
    "solve_problem(3, 'MAC', mac)"
   ]
  },
  {
   "cell_type": "code",
   "execution_count": 106,
   "id": "eb27c60d",
   "metadata": {},
   "outputs": [
    {
     "name": "stdout",
     "output_type": "stream",
     "text": [
      "Nodes Generated: 36\n",
      "Nodes Expanded: 36\n",
      "Time: 0.7792275669999071s\n"
     ]
    },
    {
     "data": {
      "image/png": "[encoded data removed]",
      "text/plain": [
       "<Figure size 432x288 with 1 Axes>"
      ]
     },
     "metadata": {
      "needs_background": "light"
     },
     "output_type": "display_data"
    }
   ],
   "source": [
    "# MAC Problema 5 \n",
    "solve_problem(4, 'MAC', mac)"
   ]
  },
  {
   "cell_type": "code",
   "execution_count": 107,
   "id": "2dd8ebb7",
   "metadata": {},
   "outputs": [
    {
     "name": "stdout",
     "output_type": "stream",
     "text": [
      "Nodes Generated: 51\n",
      "Nodes Expanded: 51\n",
      "Time: 2.816755761999957s\n"
     ]
    },
    {
     "data": {
      "image/png": "[encoded data removed]",
      "text/plain": [
       "<Figure size 432x288 with 1 Axes>"
      ]
     },
     "metadata": {
      "needs_background": "light"
     },
     "output_type": "display_data"
    }
   ],
   "source": [
    "# MAC Problema 6 \n",
    "solve_problem(5, 'MAC', mac)"
   ]
  },
  {
   "cell_type": "markdown",
   "id": "b75d002e",
   "metadata": {},
   "source": [
    "## BONUS\n",
    "### Utilizarea euristicilor in rezolvarea problemei satisfacerii restrictiilor: ordonarea variabilelor\n",
    "### Minimum remaining value"
   ]
  },
  {
   "cell_type": "code",
   "execution_count": 148,
   "id": "d5bb8577",
   "metadata": {},
   "outputs": [],
   "source": [
    "def bkt_mac_minimum_remaining_value(problem, Vars, Solution, Domains):\n",
    "    if not Vars:\n",
    "        return (True, Solution, 1)\n",
    "    \n",
    "    # find variable with the the smallest domain (fail first)\n",
    "    minim = len(Domains[Vars[0]])\n",
    "    index = 0\n",
    "    for i in range(len(Vars)):\n",
    "        if len(Domains[Vars[i]]) < minim:\n",
    "            minim = len(Domains[Vars[i]])\n",
    "            index = i\n",
    "            \n",
    "    X = Vars[index]\n",
    "    expanded = 1\n",
    "    \n",
    "    for val in Domains[X]:\n",
    "        new_Domains = deepcopy(Domains)\n",
    "        if ac3(problem, new_Domains, Solution, X, val):\n",
    "            new_Vars = Vars[:]\n",
    "            new_Vars.pop(index)\n",
    "            \n",
    "            new_Solution = deepcopy(Solution)\n",
    "            new_Solution[X] = val\n",
    "            \n",
    "            (return_value, return_Solution, return_expanded) = bkt_mac_minimum_remaining_value(problem, new_Vars, new_Solution, new_Domains)\n",
    "            expanded += return_expanded\n",
    "            \n",
    "            if return_value:\n",
    "                return (return_value, return_Solution, expanded)\n",
    "    \n",
    "    return (False, {}, 1)\n",
    "\n",
    "def mac_minimum_remaining_value(problem):\n",
    "    (Vars, Domains) = generate_csp(problem)\n",
    "    \n",
    "    ac3_begin(problem, Domains)\n",
    "    (_, solution, expanded) = bkt_mac_minimum_remaining_value(problem, Vars, {}, Domains)\n",
    "    return (expanded, expanded, [solution[(LINE, i)] for i in range(problem[HEIGHT])])"
   ]
  },
  {
   "cell_type": "code",
   "execution_count": 149,
   "id": "09a14c36",
   "metadata": {},
   "outputs": [
    {
     "name": "stdout",
     "output_type": "stream",
     "text": [
      "Nodes Generated: 11\n",
      "Nodes Expanded: 11\n",
      "Time: 0.0018880940042436123s\n"
     ]
    },
    {
     "data": {
      "image/png": "[encoded data removed]",
      "text/plain": [
       "<Figure size 432x288 with 1 Axes>"
      ]
     },
     "metadata": {
      "needs_background": "light"
     },
     "output_type": "display_data"
    }
   ],
   "source": [
    "# BONUS MAC Problema 1 \n",
    "solve_problem(0, 'MAC Minimum Remaining Value', mac_minimum_remaining_value)"
   ]
  },
  {
   "cell_type": "code",
   "execution_count": 150,
   "id": "c3c5b416",
   "metadata": {},
   "outputs": [
    {
     "name": "stdout",
     "output_type": "stream",
     "text": [
      "Nodes Generated: 11\n",
      "Nodes Expanded: 11\n",
      "Time: 0.001584135985467583s\n"
     ]
    },
    {
     "data": {
      "image/png": "[encoded data removed]",
      "text/plain": [
       "<Figure size 432x288 with 1 Axes>"
      ]
     },
     "metadata": {
      "needs_background": "light"
     },
     "output_type": "display_data"
    }
   ],
   "source": [
    "# BONUS MAC Problema 2 \n",
    "solve_problem(1, 'MAC Minimum Remaining Value', mac_minimum_remaining_value)"
   ]
  },
  {
   "cell_type": "code",
   "execution_count": 151,
   "id": "6a04f25e",
   "metadata": {},
   "outputs": [
    {
     "name": "stdout",
     "output_type": "stream",
     "text": [
      "Nodes Generated: 21\n",
      "Nodes Expanded: 21\n",
      "Time: 0.009780352003872395s\n"
     ]
    },
    {
     "data": {
      "image/png": "[encoded data removed]",
      "text/plain": [
       "<Figure size 432x288 with 1 Axes>"
      ]
     },
     "metadata": {
      "needs_background": "light"
     },
     "output_type": "display_data"
    }
   ],
   "source": [
    "# BONUS MAC Problema 3 \n",
    "solve_problem(2, 'MAC Minimum Remaining Value', mac_minimum_remaining_value)"
   ]
  },
  {
   "cell_type": "code",
   "execution_count": 152,
   "id": "17cfb1e9",
   "metadata": {},
   "outputs": [
    {
     "name": "stdout",
     "output_type": "stream",
     "text": [
      "Nodes Generated: 31\n",
      "Nodes Expanded: 31\n",
      "Time: 0.20478225100669079s\n"
     ]
    },
    {
     "data": {
      "image/png": "[encoded data removed]",
      "text/plain": [
       "<Figure size 432x288 with 1 Axes>"
      ]
     },
     "metadata": {
      "needs_background": "light"
     },
     "output_type": "display_data"
    }
   ],
   "source": [
    "# BONUS MAC Problema 4 \n",
    "solve_problem(3, 'MAC Minimum Remaining Value', mac_minimum_remaining_value)"
   ]
  },
  {
   "cell_type": "code",
   "execution_count": 153,
   "id": "c0b8d956",
   "metadata": {},
   "outputs": [
    {
     "name": "stdout",
     "output_type": "stream",
     "text": [
      "Nodes Generated: 36\n",
      "Nodes Expanded: 36\n",
      "Time: 0.4630339299910702s\n"
     ]
    },
    {
     "data": {
      "image/png": "[encoded data removed]",
      "text/plain": [
       "<Figure size 432x288 with 1 Axes>"
      ]
     },
     "metadata": {
      "needs_background": "light"
     },
     "output_type": "display_data"
    }
   ],
   "source": [
    "# BONUS MAC Problema 5 \n",
    "solve_problem(4, 'MAC Minimum Remaining Value', mac_minimum_remaining_value)"
   ]
  },
  {
   "cell_type": "code",
   "execution_count": 154,
   "id": "8b55e202",
   "metadata": {},
   "outputs": [
    {
     "name": "stdout",
     "output_type": "stream",
     "text": [
      "Nodes Generated: 51\n",
      "Nodes Expanded: 51\n",
      "Time: 2.2687129770056345s\n"
     ]
    },
    {
     "data": {
      "image/png": "[encoded data removed]",
      "text/plain": [
       "<Figure size 432x288 with 1 Axes>"
      ]
     },
     "metadata": {
      "needs_background": "light"
     },
     "output_type": "display_data"
    }
   ],
   "source": [
    "# BONUS MAC Problema 6 \n",
    "solve_problem(5, 'MAC Minimum Remaining Value', mac_minimum_remaining_value)"
   ]
  },
  {
   "cell_type": "code",
   "execution_count": null,
   "id": "1664f911",
   "metadata": {},
   "outputs": [],
   "source": []
  }
 ],
 "metadata": {
  "kernelspec": {
   "display_name": "Python 3",
   "language": "python",
   "name": "python3"
  },
  "language_info": {
   "codemirror_mode": {
    "name": "ipython",
    "version": 3
   },
   "file_extension": ".py",
   "mimetype": "text/x-python",
   "name": "python",
   "nbconvert_exporter": "python",
   "pygments_lexer": "ipython3",
   "version": "3.8.8"
  }
 },
 "nbformat": 4,
 "nbformat_minor": 5
}
